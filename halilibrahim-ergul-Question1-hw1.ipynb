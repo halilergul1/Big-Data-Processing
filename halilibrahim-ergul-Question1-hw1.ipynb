{
 "cells": [
  {
   "cell_type": "code",
   "execution_count": 1,
   "metadata": {},
   "outputs": [],
   "source": [
    "import warnings\n",
    "warnings.filterwarnings('ignore')\n",
    "import math\n",
    "from pyspark import SparkContext"
   ]
  },
  {
   "cell_type": "code",
   "execution_count": 3,
   "metadata": {},
   "outputs": [
    {
     "name": "stdout",
     "output_type": "stream",
     "text": [
      "['Afghanistan Flag Icon \\tAfghanistan \\tKabul \\t34,53 \\t69,17\\t']\n"
     ]
    }
   ],
   "source": [
    "sc = SparkContext.getOrCreate()\n",
    "capitalsRDD = sc.textFile(\"/Users/halilergul/Desktop/master/fall-23_24/datasets-20231023/Capitals.txt\")\n",
    "print(capitalsRDD.take(1))"
   ]
  },
  {
   "cell_type": "code",
   "execution_count": 4,
   "metadata": {},
   "outputs": [
    {
     "data": {
      "text/plain": [
       "[('Afghanistan ', 'Kabul ', 87.0, 86.0),\n",
       " ('Albania ', 'Tirana ', 74.0, 101.0),\n",
       " ('Algeria ', 'Algiers ', 111.0, 7.0),\n",
       " ('American Samoa ', 'Pago Pago ', 14.0, -100.0),\n",
       " ('Andorra ', 'Andorra la Vella ', 93.0, 53.0)]"
      ]
     },
     "execution_count": 4,
     "metadata": {},
     "output_type": "execute_result"
    }
   ],
   "source": [
    "# This will extract capital name, latitude and longitude\n",
    "def lineparser(line):\n",
    "    parts = line.split(\"\\t\")\n",
    "    country = parts[1]\n",
    "    city = parts[2]\n",
    "    lat, long = parts[3].split(\",\"), parts[4].split(\",\")\n",
    "    return (country, city, float(lat[0]) + float(lat[1]), float(long[0]) + float(long[1])) \n",
    "\n",
    "#A new RDD with the parsed data\n",
    "cities = capitalsRDD.map(lineparser)\n",
    "cities.take(5)"
   ]
  },
  {
   "cell_type": "code",
   "execution_count": 5,
   "metadata": {},
   "outputs": [
    {
     "name": "stderr",
     "output_type": "stream",
     "text": [
      "                                                                                \r"
     ]
    },
    {
     "name": "stdout",
     "output_type": "stream",
     "text": [
      "[(('Afghanistan ', 'Kabul ', 87.0, 86.0), ('Albania ', 'Tirana ', 74.0, 101.0))]\n",
      "57838\n"
     ]
    },
    {
     "name": "stderr",
     "output_type": "stream",
     "text": [
      "                                                                                \r"
     ]
    }
   ],
   "source": [
    "city_pairs = cities.cartesian(cities).filter(lambda x: x[0][1] != x[1][1]) #This creates an RDD of all possible combinations (pairs) of cities\n",
    "# then ,lambda x: x[0][1] != x[1][1] is used to filter out pairs where the second element (the city name) of the first tuple is the same as the second element of the second tuple.\n",
    "print(city_pairs.take(1))\n",
    "print(city_pairs.count()) # there are 57838 combinations of cities"
   ]
  },
  {
   "cell_type": "code",
   "execution_count": 6,
   "metadata": {},
   "outputs": [
    {
     "name": "stdout",
     "output_type": "stream",
     "text": [
      "I found Jerusalem  and East Jerusalem  with a distance of 0.00.\n"
     ]
    },
    {
     "name": "stderr",
     "output_type": "stream",
     "text": [
      "                                                                                \r"
     ]
    }
   ],
   "source": [
    "# Getting cartesian product\n",
    "city_pairs = cities.cartesian(cities).filter(lambda x: x[0][1] != x[1][1])\n",
    "# This is the haversine formula to calculate the distance between two points on a sphere (I took it from the internet)\n",
    "def haversine(lon1, lat1, lon2, lat2): \n",
    "    dlat = lat2 - lat1\n",
    "    dlon = lon2 - lon1\n",
    "    a = math.sin(dlat/2)**2 + math.cos(lat1) * math.cos(lat2) * math.sin(dlon/2)**2\n",
    "    c = 2 * math.atan2(math.sqrt(a), math.sqrt(1-a))\n",
    "    km = 6371 * c # 6371 is the radius of the Earth\n",
    "    return km\n",
    "\n",
    "def distance(pair):\n",
    "    city1, city2 = pair\n",
    "    lat1, lon1 = city1[2], city1[3]\n",
    "    lat2, lon2 = city2[2], city2[3]\n",
    "    dist = haversine(lon1, lat1, lon2, lat2)\n",
    "    return ((city1[1], city2[1]), dist)\n",
    "\n",
    "distances = city_pairs.map(distance)\n",
    "closest_cities = distances.min(key=lambda x: x[1]) # Finding the closest cities by minimum distance\n",
    "print(f\"I found {closest_cities[0][0]} and {closest_cities[0][1]} with a distance of {closest_cities[1]:.2f}.\")\n"
   ]
  }
 ],
 "metadata": {
  "kernelspec": {
   "display_name": "Python 3",
   "language": "python",
   "name": "python3"
  },
  "language_info": {
   "codemirror_mode": {
    "name": "ipython",
    "version": 3
   },
   "file_extension": ".py",
   "mimetype": "text/x-python",
   "name": "python",
   "nbconvert_exporter": "python",
   "pygments_lexer": "ipython3",
   "version": "3.10.7"
  }
 },
 "nbformat": 4,
 "nbformat_minor": 2
}
