{
 "cells": [
  {
   "cell_type": "code",
   "execution_count": 5,
   "metadata": {},
   "outputs": [
    {
     "name": "stdout",
     "output_type": "stream",
     "text": [
      "I found Paramaribo  and Dili \n"
     ]
    },
    {
     "name": "stderr",
     "output_type": "stream",
     "text": [
      "                                                                                \r"
     ]
    }
   ],
   "source": [
    "from pyspark import SparkContext\n",
    "sc = SparkContext.getOrCreate()\n",
    "capitalsRDD = sc.textFile(\"/Users/halilergul/Desktop/master/fall-23_24/datasets-20231023/Capitals.txt\")\n",
    "from haversine import haversine\n",
    "\n",
    "# I define function to parse the lines to extract the country, city, latitude and longitude\n",
    "def parse_line(line):\n",
    "    parts = line.split(\"\\t\")\n",
    "    country = parts[1]\n",
    "    city = parts[2]\n",
    "    lat, lon = parts[3].split(\",\"), parts[4].split(\",\")\n",
    "    return (country, city, float(lat[0]) + float(lat[1])/60, float(lon[0]) + float(lon[1])/60)  # convert minutes to degrees\n",
    "\n",
    "def correct_swapped_coords(city): # I learned some cities have swapped lat-long values :)\n",
    "    name, country, lat, lon = city\n",
    "    # If the latitude is out of range but longitude is in range, they might be swapped\n",
    "    if (lat > 90 or lat < -90) and (-180 <= lon <= 180):\n",
    "        lat, lon = lon, lat  # Swap them\n",
    "    return (name, country, lat, lon)\n",
    "\n",
    "# After parsing, I correct any swapped lat-long values\n",
    "cities = capitalsRDD.map(parse_line).map(correct_swapped_coords)\n",
    "# valid_cities = cities.filter(lambda city: -90 <= city[2] <= 90)\n",
    "city_pairs = cities.cartesian(cities).filter(lambda x: x[0][1] != x[1][1]) # city pairs RDD\n",
    "\n",
    "def distance(pair):\n",
    "    city1, city2 = pair\n",
    "    coord1 = (city1[2], city1[3]) # (lat1, lon1)\n",
    "    coord2 = (city2[2], city2[3]) # (lat2, lon2)\n",
    "    dist = haversine(coord1, coord2)\n",
    "    return ((city1[1], city2[1]), dist)\n",
    "\n",
    "distances = city_pairs.map(distance)\n",
    "farthest_cities = distances.reduce(lambda x, y: x if x[1] > y[1] else y)\n",
    "print(f\"I found {farthest_cities[0][0]} and {farthest_cities[0][1]}\")\n"
   ]
  }
 ],
 "metadata": {
  "kernelspec": {
   "display_name": "Python 3",
   "language": "python",
   "name": "python3"
  },
  "language_info": {
   "codemirror_mode": {
    "name": "ipython",
    "version": 3
   },
   "file_extension": ".py",
   "mimetype": "text/x-python",
   "name": "python",
   "nbconvert_exporter": "python",
   "pygments_lexer": "ipython3",
   "version": "3.10.7"
  }
 },
 "nbformat": 4,
 "nbformat_minor": 2
}
