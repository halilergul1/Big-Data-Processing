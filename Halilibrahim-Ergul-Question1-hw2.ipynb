{
 "cells": [
  {
   "cell_type": "code",
   "execution_count": 3,
   "metadata": {},
   "outputs": [
    {
     "name": "stdout",
     "output_type": "stream",
     "text": [
      "+--------------------+-----------------+\n",
      "|                 tag|   average_rating|\n",
      "+--------------------+-----------------+\n",
      "|          creativity|              5.0|\n",
      "|        human rights|              5.0|\n",
      "|          procedural|              5.0|\n",
      "|    free to download|              5.0|\n",
      "|         no dialogue|              5.0|\n",
      "|            Dystopia|             4.75|\n",
      "|   thought provoking|             4.75|\n",
      "|             parrots|             4.75|\n",
      "|            jon hamm|             4.75|\n",
      "| movies about movies|4.666666666666667|\n",
      "|interracial marriage|4.545454545454546|\n",
      "|           prejudice|4.545454545454546|\n",
      "|        Metaphorical|              4.5|\n",
      "|political right v...|              4.5|\n",
      "|       individualism|              4.5|\n",
      "|             freedom|              4.5|\n",
      "|        good writing|              4.5|\n",
      "|     black-and-white|              4.5|\n",
      "|   building a family|              4.5|\n",
      "|               crazy|              4.5|\n",
      "+--------------------+-----------------+\n",
      "only showing top 20 rows\n",
      "\n"
     ]
    }
   ],
   "source": [
    "from pyspark.sql import SparkSession\n",
    "from pyspark.sql import functions as F\n",
    "spark = SparkSession.builder.appName(\"MovieLens Analysis\").getOrCreate()\n",
    "tags_df = spark.read.csv(\"tags.csv\", header=True, inferSchema=True)\n",
    "ratings_df = spark.read.csv(\"ratings.csv\", header=True, inferSchema=True)\n",
    "combined_df = tags_df.join(ratings_df, \"movieId\", \"left\") # left join to keep all tags\n",
    "combined_df = combined_df.na.fill({\"rating\": 0})  # Handling tags with no ratings: replacing null ratings with a default value (e.g., 0 or the overall average)\n",
    "average_ratings_df = combined_df.groupBy(\"tag\").agg(F.avg(\"rating\").alias(\"average_rating\")) # In herei I am grouping by tag and calculating the average rating for each tag\n",
    "sorted_average_ratings_df = average_ratings_df.orderBy(\"average_rating\", ascending=False) # sort\n",
    "# Displaying the results\n",
    "sorted_average_ratings_df.show()"
   ]
  }
 ],
 "metadata": {
  "kernelspec": {
   "display_name": "Python 3",
   "language": "python",
   "name": "python3"
  },
  "language_info": {
   "codemirror_mode": {
    "name": "ipython",
    "version": 3
   },
   "file_extension": ".py",
   "mimetype": "text/x-python",
   "name": "python",
   "nbconvert_exporter": "python",
   "pygments_lexer": "ipython3",
   "version": "3.10.7"
  }
 },
 "nbformat": 4,
 "nbformat_minor": 2
}
